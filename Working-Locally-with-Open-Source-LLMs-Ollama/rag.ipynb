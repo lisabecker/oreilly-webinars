{
 "cells": [
  {
   "cell_type": "markdown",
   "metadata": {},
   "source": [
    "# "
   ]
  },
  {
   "cell_type": "markdown",
   "metadata": {},
   "source": [
    "## 1. Make sure you have the following packages in your environment installed"
   ]
  },
  {
   "cell_type": "code",
   "execution_count": 1,
   "metadata": {},
   "outputs": [],
   "source": [
    "# !pip install --upgrade pip\n",
    "# !pip install langchain==0.3.25 langchain-community==0.3.25 langchain-ollama==0.3.3 chromadb==1.0.12"
   ]
  },
  {
   "cell_type": "code",
   "execution_count": 2,
   "metadata": {},
   "outputs": [],
   "source": [
    "from langchain.document_loaders import TextLoader, DirectoryLoader\n",
    "from langchain.text_splitter import RecursiveCharacterTextSplitter\n",
    "from langchain_ollama import OllamaEmbeddings, OllamaLLM\n",
    "from langchain.vectorstores import Chroma\n",
    "from langchain.chains import RetrievalQA"
   ]
  },
  {
   "cell_type": "markdown",
   "metadata": {},
   "source": [
    "## 2. Load your documents"
   ]
  },
  {
   "cell_type": "code",
   "execution_count": 3,
   "metadata": {},
   "outputs": [
    {
     "name": "stdout",
     "output_type": "stream",
     "text": [
      "One single document:\n",
      "\n",
      "'CLEVER GRETEL\n",
      "\n",
      "There was once a cook named Gretel, who wore shoes with red heels, and when she walked out with them on, she turned herself this way and that, was quite happy and thought: ‘You certainly are a pretty girl!’ And when she came home she drank, in her gladness of heart, a draught of wine, and as wine excites a desire to eat, she tasted the best of whatever she was cooking until she was satisfied, and said: ‘The cook must know what the food is like.’\n",
      "\n",
      "It came to pass that the master one day said to her: ‘Gretel, there is a guest coming this evening; prepare me two fowls very daintily.’ ‘I will see to it, master,’ answered Gretel. She killed two fowls, scalded them, plucked them, put them on the spit, and towards evening set them before the fire, that they might roast. The fowls began to turn brown, and were nearly ready, but the guest had not yet arrived. Then Gretel called out to her master: ‘If the guest does not come, I must take the fowls away from the fire, but it will be a sin and a shame if they are not eaten the moment they are at their juiciest.’ The master said: ‘I will run myself, and fetch the guest.’ When the master had turned his back, Gretel laid the spit with the fowls on one side, and thought: ‘Standing so long by the fire there, makes one sweat and thirsty; who knows when they will come? Meanwhile, I will run into the cellar, and take a drink.’ She ran down, set a jug, said: ‘God bless it for you, Gretel,’ and took a good drink, and thought that wine should flow on, and should not be interrupted, and took yet another hearty draught.\n",
      "\n",
      "Then she went and put the fowls down again to the fire, basted them, and drove the spit merrily round. But as the roast meat smelt so good, Gretel thought: ‘Something might be wrong, it ought to be tasted!’ She touched it with her finger, and said: ‘Ah! how good fowls are! It certainly is a sin and a shame that they are not eaten at the right time!’ She ran to the window, to see if the master was not coming with his guest, but she saw no one, and went back to the fowls and thought: ‘One of the wings is burning! I had better take it off and eat it.’ So she cut it off, ate it, and enjoyed it, and when she had done, she thought: ‘The other must go down too, or else master will observe that something is missing.’ When the two wings were eaten, she went and looked for her master, and did not see him. It suddenly occurred to her: ‘Who knows? They are perhaps not coming at all, and have turned in somewhere.’ Then she said: ‘Well, Gretel, enjoy yourself, one fowl has been cut into, take another drink, and eat it up entirely; when it is eaten you will have some peace, why should God’s good gifts be spoilt?’ So she ran into the cellar again, took an enormous drink and ate up the one chicken in great glee. When one of the chickens was swallowed down, and still her master did not come, Gretel looked at the other and said: ‘What one is, the other should be likewise, the two go together; what’s right for the one is right for the other; I think if I were to take another draught it would do me no harm.’ So she took another hearty drink, and let the second chicken follow the first.\n",
      "\n",
      "While she was making the most of it, her master came and cried: ‘Hurry up, Gretel, the guest is coming directly after me!’ ‘Yes, sir, I will soon serve up,’ answered Gretel. Meantime the master looked to see that the table was properly laid, and took the great knife, wherewith he was going to carve the chickens, and sharpened it on the steps. Presently the guest came, and knocked politely and courteously at the house-door. Gretel ran, and looked to see who was there, and when she saw the guest, she put her finger to her lips and said: ‘Hush! hush! go away as quickly as you can, if my master catches you it will be the worse for you; he certainly did ask you to supper, but his intention is to cut off your two ears. Just listen how he is sharpening the knife for it!’ The guest heard the sharpening, and hurried down the steps again as fast as he could. Gretel was not idle; she ran screaming to her master, and cried: ‘You have invited a fine guest!’ ‘Why, Gretel? What do you mean by that?’ ‘Yes,’ said she, ‘he has taken the chickens which I was just going to serve up, off the dish, and has run away with them!’ ‘That’s a nice trick!’ said her master, and lamented the fine chickens. ‘If he had but left me one, so that something remained for me to eat.’ He called to him to stop, but the guest pretended not to hear. Then he ran after him with the knife still in his hand, crying: ‘Just one, just one,’ meaning that the guest should leave him just one chicken, and not take both. The guest, however, thought no otherwise than that he was to give up one of his ears, and ran as if fire were burning under him, in order to take them both with him.'\n",
      "\n",
      "From the text file:\n",
      "'documents/clever_gretel.txt'\n"
     ]
    }
   ],
   "source": [
    "loader = DirectoryLoader(\n",
    "    \"./documents\",\n",
    "    glob=\"**/*.txt\",\n",
    "    loader_cls=TextLoader,\n",
    "    loader_kwargs={\"encoding\": \"utf-8\"}\n",
    ")\n",
    "docs = loader.load()\n",
    "print(f\"One single document:\\n\\n'{docs[1].page_content}'\\n\\nFrom the text file:\\n'{docs[1].metadata['source']}'\")"
   ]
  },
  {
   "cell_type": "markdown",
   "metadata": {},
   "source": [
    "## 3. Chunk your documents"
   ]
  },
  {
   "cell_type": "code",
   "execution_count": 4,
   "metadata": {},
   "outputs": [
    {
     "name": "stdout",
     "output_type": "stream",
     "text": [
      "One single document chunk:\n",
      "'CLEVER GRETEL\n",
      "\n",
      "There was once a cook named Gretel, who wore shoes with red heels, and when she walked out with them on, she turned herself this way and that, was quite happy and thought: ‘You certainly are a pretty girl!’ And when she came home she drank, in her gladness of heart, a draught of wine, and as wine excites a desire to eat, she tasted the best of whatever she was cooking until she was satisfied, and said: ‘The cook must know what the food is like.’'\n",
      "\n",
      "From the file:\n",
      "'documents/clever_gretel.txt'\n"
     ]
    }
   ],
   "source": [
    "splitter = RecursiveCharacterTextSplitter(chunk_size=512, chunk_overlap=128)\n",
    "chunks = splitter.split_documents(docs)\n",
    "print(f\"One single document chunk:\\n'{chunks[5].page_content}'\\n\\nFrom the file:\\n'{chunks[5].metadata['source']}'\")"
   ]
  },
  {
   "cell_type": "markdown",
   "metadata": {},
   "source": [
    "## 4. Embed and index chunks in a vector database\n",
    "Make sure to execute `ollama pull all-minilm` in the terminal before running the following snippet."
   ]
  },
  {
   "cell_type": "code",
   "execution_count": 5,
   "metadata": {},
   "outputs": [],
   "source": [
    "# !ollama pull all-minilm\n",
    "# !ollama pull nomic-embed-text\n",
    "# !ollama pull mxbai-embed-large"
   ]
  },
  {
   "cell_type": "code",
   "execution_count": 6,
   "metadata": {},
   "outputs": [
    {
     "name": "stdout",
     "output_type": "stream",
     "text": [
      "Total amount of chunks / embeddings: 63\n"
     ]
    }
   ],
   "source": [
    "# model = \"all-minilm\"         # 23M parameters\n",
    "# model = \"nomic-embed-text\"   # 137M parameters\n",
    "model = \"mxbai-embed-large\"   # 334M parameters\n",
    "\n",
    "# Create a vector store to store the embeddings or our chunked documents\n",
    "embed_model = OllamaEmbeddings(model=model, base_url=\"http://127.0.0.1:11434\")\n",
    "vector_store = Chroma.from_documents(chunks, embed_model)\n",
    "collection = vector_store._collection\n",
    "\n",
    "print(\"Total amount of chunks / embeddings:\", collection.count())"
   ]
  },
  {
   "cell_type": "code",
   "execution_count": 7,
   "metadata": {},
   "outputs": [
    {
     "name": "stdout",
     "output_type": "stream",
     "text": [
      "One single document:\n",
      "It happened that the cat met the fox in a forest, and as she thought to herself: ‘He is clever and full of experience, and much esteemed in the world,’ she spoke to him in a friendly way. ‘Good day, dear Mr Fox, how are you? How is all with you? How are you getting on in these hard times?’ The fox, full of all kinds of arrogance, looked at the cat from head to foot, and for a long time did not know whether he would give any answer or not. At last he said: ‘Oh, you wretched beard-cleaner, you piebald fool,\n",
      "\n",
      "The document's embedding:\n",
      "[ 0.04361834  0.0033501   0.01679566 ...  0.01759302  0.00692107\n",
      " -0.00018101]\n",
      "\n"
     ]
    }
   ],
   "source": [
    "all_data = collection.get(include=[\"documents\", \"embeddings\"])\n",
    "print(f\"One single document:\\n{all_data['documents'][1]}\\n\")\n",
    "print(f\"The document's embedding:\\n{all_data['embeddings'][1]}\\n\")\n"
   ]
  },
  {
   "cell_type": "markdown",
   "metadata": {},
   "source": [
    "## 5. Create a Retrieval-QA chain\n",
    "Make sure to execute `ollama pull gemma3:1b` in the terminal before running the following snippet."
   ]
  },
  {
   "cell_type": "code",
   "execution_count": 8,
   "metadata": {},
   "outputs": [],
   "source": [
    "# !ollama pull gemma3:1b\n",
    "# !ollama pull llama3.2\n",
    "# !ollama pull mistral"
   ]
  },
  {
   "cell_type": "code",
   "execution_count": 9,
   "metadata": {},
   "outputs": [
    {
     "name": "stdout",
     "output_type": "stream",
     "text": [
      "\u001b[1mOllamaLLM\u001b[0m\n",
      "Params: {}\n"
     ]
    }
   ],
   "source": [
    "# model = \"gemma3:1b\"     # 1B parameters\n",
    "# model = \"llama3.2\"    # 3B parameters\n",
    "model = \"mistral\"     # 7B parameters\n",
    "\n",
    "# Create a language model with an endpoint, and a RetrievalQA chain which takes the language model,\n",
    "# and the vector store containing our documents.\n",
    "llm = OllamaLLM(\n",
    "    model=model,\n",
    "    base_url=\"http://127.0.0.1:11434\",\n",
    "    temperature=0.9,\n",
    "    top_p=0.95,\n",
    "    top_k=46,\n",
    "    # num_predict=256,\n",
    "    )\n",
    "\n",
    "qa_chain = RetrievalQA.from_chain_type(\n",
    "    llm=llm,\n",
    "    retriever=vector_store.as_retriever(search_kwargs={\"k\": 10}), # We set the number of chunks to return k\n",
    "    chain_type=\"stuff\",            # or \"map_reduce\", \"refine\", etc.\n",
    "    return_source_documents=True,  # if you want the source chunks back\n",
    ")\n",
    "print(llm)"
   ]
  },
  {
   "cell_type": "markdown",
   "metadata": {},
   "source": [
    "# 6 Ask questions!\n",
    "Some examples:\n",
    "### 6.1. \"Who is Clever Hans in the Grimm Fairy Tales?\""
   ]
  },
  {
   "cell_type": "code",
   "execution_count": null,
   "metadata": {},
   "outputs": [
    {
     "name": "stdout",
     "output_type": "stream",
     "text": [
      "Answer:  There appears to be some confusion. Clever Hans was not a character in the Grimm fairy tales. Instead, Clever Hans was a horse that lived during the late 19th and early 20th centuries, who became famous for his ability to perform mathematical calculations by tapping his hoof when asked a question. The story of Clever Hans is more about psychology and human-animal communication rather than a Grimm fairy tale.\n"
     ]
    }
   ],
   "source": [
    "# Without RAG\n",
    "query = \"Who is Clever Hans in the Grimm Fairy Tales?\"\n",
    "result = llm.invoke(query)\n",
    "print(f\"Answer: {result}\")"
   ]
  },
  {
   "cell_type": "code",
   "execution_count": null,
   "metadata": {},
   "outputs": [
    {
     "name": "stdout",
     "output_type": "stream",
     "text": [
      "Answer:  Clever Hans is one of the characters in the Grimm Fairy Tales. He is a horse with the ability to solve mathematical problems and other intellectual tasks. The context provided above comes from another tale featuring this character, showing his interactions with Gretel and his mother rather than his math skills.\n",
      "\n",
      "Source: [Document(metadata={'source': 'documents/clever_hans.txt'}, page_content='CLEVER HANS\\n\\nThe mother of Hans said: ‘Whither away, Hans?’ Hans answered: ‘To Gretel.’ ‘Behave well, Hans.’ ‘Oh, I’ll behave well. Goodbye, mother.’ ‘Goodbye, Hans.’ Hans comes to Gretel. ‘Good day, Gretel.’ ‘Good day, Hans. What do you bring that is good?’ ‘I bring nothing, I want to have something given me.’ Gretel presents Hans with a needle, Hans says: ‘Goodbye, Gretel.’ ‘Goodbye, Hans.’'), Document(metadata={'source': 'documents/clever_hans.txt'}, page_content='‘Whither away, Hans?’ ‘To Gretel, mother.’ ‘Behave well, Hans.’ ‘Oh, I’ll behave well. Goodbye, mother.’ ‘Goodbye, Hans.’ Hans comes to Gretel. ‘Good day, Gretel.’ ‘Good day, Hans. What do you bring that is good?’ ‘I bring nothing. I want to have something given to me.’ Gretel presents Hans with a knife. ‘Goodbye, Gretel.’ ‘Goodbye, Hans.’ Hans takes the knife, sticks it in his sleeve, and goes home. ‘Good evening, mother.’ ‘Good evening, Hans. Where have you been?’ ‘With Gretel.’ What did you take her?’'), Document(metadata={'source': 'documents/clever_hans.txt'}, page_content='‘Whither away, Hans?’ ‘To Gretel, mother.’ ‘Behave well, Hans.’ ‘Oh, I’ll behave well. Goodbye, mother.’ ‘Goodbye, Hans.’ Hans comes to Gretel. ‘Good day, Gretel.’ ‘Good day, Hans. What good thing do you bring?’ ‘I bring nothing, I want something given me.’ Gretel presents Hans with a young goat. ‘Goodbye, Gretel.’ ‘Goodbye, Hans.’ Hans takes the goat, ties its legs, and puts it in his pocket. When he gets home it is suffocated. ‘Good evening, mother.’ ‘Good evening, Hans. Where have you been?’ ‘With'), Document(metadata={'source': 'documents/clever_hans.txt'}, page_content='Hans takes Gretel, ties her to a rope, leads her to the rack, and binds her fast. Then Hans goes to his mother. ‘Good evening, mother.’ ‘Good evening, Hans. Where have you been?’ ‘With Gretel.’ ‘What did you take her?’ ‘I took her nothing.’ ‘What did Gretel give you?’ ‘She gave me nothing, she came with me.’ ‘Where have you left Gretel?’ ‘I led her by the rope, tied her to the rack, and scattered some grass for her.’ ‘That was ill done, Hans, you should have cast friendly eyes on her.’ ‘Never mind, will do'), Document(metadata={'source': 'documents/clever_hans.txt'}, page_content='Hans takes the needle, sticks it into a hay-cart, and follows the cart home. ‘Good evening, mother.’ ‘Good evening, Hans. Where have you been?’ ‘With Gretel.’ ‘What did you take her?’ ‘Took nothing; had something given me.’ ‘What did Gretel give you?’ ‘Gave me a needle.’ ‘Where is the needle, Hans?’ ‘Stuck in the hay-cart.’ ‘That was ill done, Hans. You should have stuck the needle in your sleeve.’ ‘Never mind, I’ll do better next time.’'), Document(metadata={'source': 'documents/the_frog_prince.txt'}, page_content='THE FROG-PRINCE'), Document(metadata={'source': 'documents/clever_hans.txt'}, page_content='‘Whither away, Hans?’ ‘To Gretel, mother.’ ‘Behave well, Hans.’ ‘I’ll behave well. Goodbye, mother.’ ‘Goodbye, Hans.’ Hans comes to Gretel. ‘Good day, Gretel.’ ‘Good day, Hans, What good thing do you bring?’ ‘I bring nothing, but would have something given.’ Gretel presents Hans with a calf. ‘Goodbye, Gretel.’ ‘Goodbye, Hans.’'), Document(metadata={'source': 'documents/the_frog_prince.txt'}, page_content='He told her that he had been enchanted by a spiteful fairy, who had changed him into a frog; and that he had been fated so to abide till some princess should take him out of the spring, and let him eat from her plate, and sleep upon her bed for three nights. ‘You,’ said the prince, ‘have broken his cruel charm, and now I have nothing to wish for but that you should go with me into my father’s kingdom, where I will marry you, and love you as long as you live.’'), Document(metadata={'source': 'documents/clever_hans.txt'}, page_content='‘Whither away, Hans?’ ‘To Gretel, mother.’ ‘Behave well, Hans.’ ‘I’ll behave well. Goodbye, mother.’ ‘Goodbye, Hans.’\\n\\nHans comes to Gretel. ‘Good day, Gretel.’ ‘Good day, Hans. What good thing do you bring?’ ‘I bring nothing, but would have something given.’ Gretel says to Hans: ‘I will go with you.’'), Document(metadata={'source': 'documents/clever_hans.txt'}, page_content='‘Whither away, Hans?’ ‘To Gretel, mother.’ ‘Behave well, Hans.’ ‘Oh, I’ll behave well. Goodbye, mother.’ ‘Goodbye, Hans.’ Hans comes to Gretel. ‘Good day, Gretel.’ ‘Good day, Hans. What good thing do you bring?’ ‘I bring nothing, I want something given me.’ Gretel presents Hans with a piece of bacon. ‘Goodbye, Gretel.’ ‘Goodbye, Hans.’')]\n"
     ]
    }
   ],
   "source": [
    "# With RAG\n",
    "result = qa_chain.invoke({\"query\": query})\n",
    "print(f\"Answer: {result['result']}\\n\")\n",
    "print(f\"Source: {result['source_documents']}\")"
   ]
  },
  {
   "cell_type": "markdown",
   "metadata": {},
   "source": [
    "### 6.2 \"Cite what the frog says in the “The Frog Prince” in the Grimm Fairy Tales when he tries to visit the princess\""
   ]
  },
  {
   "cell_type": "code",
   "execution_count": null,
   "metadata": {},
   "outputs": [
    {
     "name": "stdout",
     "output_type": "stream",
     "text": [
      "Answer:  In the Grimm Fairy Tale \"The Frog Prince,\" when the transformed frog attempts to visit the Princess, the text goes as follows:\n",
      "\n",
      "\"Then the Frog climbed up on a stone and said to her: 'I am a nobleman turned into a Frog by a wicked enchanter's spell. A princess has to kiss me three times to make me a man again, and I shall reward you richly for it.'\"\n",
      "\n",
      "Here's the full link to the complete tale: https://www.pitt.edu/~dash/grimm-frogprince.html\n"
     ]
    }
   ],
   "source": [
    "# Without RAG\n",
    "query = \"Cite what the frog says in the “The Frog Prince” in the Grimm Fairy Tales when he tries to visit the princess\"\n",
    "result = llm.invoke(query)\n",
    "print(f\"Answer: {result}\")"
   ]
  },
  {
   "cell_type": "code",
   "execution_count": null,
   "metadata": {},
   "outputs": [
    {
     "name": "stdout",
     "output_type": "stream",
     "text": [
      "Answer:  The frog in \"The Frog Prince\" from the Grimm Fairy Tales says the following when he tries to visit the princess:\n",
      "\n",
      "1. First time: \"Open the door, my princess dear,\n",
      "  Open the door to thy true love here!\n",
      "  And mind the words that thou and I said\n",
      "  By the fountain cool, in the greenwood shade.\"\n",
      "\n",
      "2. Second time: (The frog repeats the same verse.)\n",
      "\"Open the door, my princess dear,\n",
      "  Open the door to thy true love here!\n",
      "  And mind the words that thou and I said\n",
      "  By the fountain cool, in the greenwood shade.\"\n",
      "\n",
      "Source: [Document(metadata={'source': 'documents/the_frog_prince.txt'}, page_content='THE FROG-PRINCE'), Document(metadata={'source': 'documents/the_frog_prince.txt'}, page_content='He told her that he had been enchanted by a spiteful fairy, who had changed him into a frog; and that he had been fated so to abide till some princess should take him out of the spring, and let him eat from her plate, and sleep upon her bed for three nights. ‘You,’ said the prince, ‘have broken his cruel charm, and now I have nothing to wish for but that you should go with me into my father’s kingdom, where I will marry you, and love you as long as you live.’'), Document(metadata={'source': 'documents/the_frog_prince.txt'}, page_content='Then the king said to the young princess, ‘As you have given your word you must keep it; so go and let him in.’ She did so, and the frog hopped into the room, and then straight on—tap, tap—plash, plash—from the bottom of the room to the top, till he came up close to the table where the princess sat. ‘Pray lift me upon chair,’ said he to the princess, ‘and let me sit next to you.’ As soon as she had done this, the frog said, ‘Put your plate nearer to me, that I may eat out of it.’ This she did, and when he'), Document(metadata={'source': 'documents/the_frog_prince.txt'}, page_content='Whilst she was speaking, a frog put its head out of the water, and said, ‘Princess, why do you weep so bitterly?’ ‘Alas!’ said she, ‘what can you do for me, you nasty frog? My golden ball has fallen into the spring.’ The frog said, ‘I want not your pearls, and jewels, and fine clothes; but if you will love me, and let me live with you and eat from off your golden plate, and sleep upon your bed, I will bring you your ball again.’ ‘What nonsense,’ thought the princess, ‘this silly frog is talking! He can'), Document(metadata={'source': 'documents/the_frog_prince.txt'}, page_content='upon your bed, I will bring you your ball again.’ ‘What nonsense,’ thought the princess, ‘this silly frog is talking! He can never even get out of the spring to visit me, though he may be able to get my ball for me, and therefore I will tell him he shall have what he asks.’ So she said to the frog, ‘Well, if you will bring me my ball, I will do all you ask.’ Then the frog put his head down, and dived deep under the water; and after a little while he came up again, with the ball in his mouth, and threw it'), Document(metadata={'source': 'documents/the_frog_prince.txt'}, page_content='Then the princess ran to the door and opened it, and there she saw the frog, whom she had quite forgotten. At this sight she was sadly frightened, and shutting the door as fast as she could came back to her seat. The king, her father, seeing that something had frightened her, asked her what was the matter. ‘There is a nasty frog,’ said she, ‘at the door, that lifted my ball for me out of the spring this morning: I told him that he should live with me here, thinking that he could never get out of the'), Document(metadata={'source': 'documents/the_frog_prince.txt'}, page_content='And when the princess opened the door the frog came in, and slept upon her pillow as before, till the morning broke. And the third night he did the same. But when the princess awoke on the following morning she was astonished to see, instead of the frog, a handsome prince, gazing on her with the most beautiful eyes she had ever seen, and standing at the head of her bed.'), Document(metadata={'source': 'documents/the_frog_prince.txt'}, page_content='But she was mistaken; for when night came again she heard the same tapping at the door; and the frog came once more, and said:\\n\\n ‘Open the door, my princess dear,\\n  Open the door to thy true love here!\\n  And mind the words that thou and I said\\n  By the fountain cool, in the greenwood shade.’'), Document(metadata={'source': 'documents/the_frog_prince.txt'}, page_content='head down, and dived deep under the water; and after a little while he came up again, with the ball in his mouth, and threw it on the edge of the spring. As soon as the young princess saw her ball, she ran to pick it up; and she was so overjoyed to have it in her hand again, that she never thought of the frog, but ran home with it as fast as she could. The frog called after her, ‘Stay, princess, and take me with you as you said,’ But she did not stop to hear a word.'), Document(metadata={'source': 'documents/the_frog_prince.txt'}, page_content='While she was speaking the frog knocked again at the door, and said:\\n\\n ‘Open the door, my princess dear,\\n  Open the door to thy true love here!\\n  And mind the words that thou and I said\\n  By the fountain cool, in the greenwood shade.’')]\n"
     ]
    }
   ],
   "source": [
    "# With RAG\n",
    "result = qa_chain.invoke({\"query\": query})\n",
    "print(f\"Answer: {result['result']}\\n\")\n",
    "print(f\"Source: {result['source_documents']}\")\n",
    "### 6.3. What is the fairy tale 'Fundevogel' about?"
   ]
  },
  {
   "cell_type": "markdown",
   "metadata": {},
   "source": [
    "### 6.3 \"What is the fairy tale 'Fundevogel' about?\""
   ]
  },
  {
   "cell_type": "code",
   "execution_count": null,
   "metadata": {},
   "outputs": [
    {
     "name": "stdout",
     "output_type": "stream",
     "text": [
      "Answer:  \"Fundevogel\" is a German fairy tale that originates from the Brothers Grimm collection. The title translates to \"Peacock Peter.\"\n",
      "\n",
      "The story follows a peacock who loses one of his feathers and goes on a journey to find another one, as he wants to be beautiful like the other peacocks again. He meets various animals along the way and asks them if they know where he can find another feather. A cat tells him that there are plenty of peacock feathers in the castle of the king's daughter. The peacock pretends to be blind and convinces the king's daughter to show him her most beautiful feathers, ultimately using his sight to seduce her.\n",
      "\n",
      "The peacock then convinces the princess to marry him, on condition that he can only touch her on their wedding day. They live together happily, and on the wedding day, the peacock grabs the princess's hand as they walk down the aisle and suddenly regains his sight. He immediately recognizes her for who she truly is: the cat who had given him the information about the feather. Enraged, he leaves her and transforms back into a peacock, leaving the princess in despair.\n",
      "\n",
      "The tale illustrates themes of deception, vanity, and the consequences of one's actions, with the moral being that those who pursue beauty often lose their own hearts and morals in the process. It serves as a cautionary tale about the dangers of vanity and the importance of inner character over physical appearances.\n"
     ]
    }
   ],
   "source": [
    "# Without RAG\n",
    "query = \"What is the fairy tale 'Fundevogel' about?\"\n",
    "result = llm.invoke(query)\n",
    "print(f\"Answer: {result}\")"
   ]
  },
  {
   "cell_type": "code",
   "execution_count": null,
   "metadata": {},
   "outputs": [
    {
     "name": "stdout",
     "output_type": "stream",
     "text": [
      "Answer:  The fairy tale 'Fundevogel' is a German folktale about a forester who finds and raises a child named Fundevogel, whom he found on a tree. Fundevogel later turns out to be a prince enchanted by a witch, and the story follows their journey together and how they eventually break the curse and live happily ever after. Along the way, Fundevogel and his friend Lina use their bond to transform into various objects to avoid being caught by the old cook who wants to harm them.\n",
      "\n",
      "Source: [Document(metadata={'source': 'documents/fundevogel.txt'}, page_content='The forester climbed up, brought the child down, and thought to himself: ‘You will take him home with you, and bring him up with your Lina.’ He took it home, therefore, and the two children grew up together. And the one, which he had found on a tree was called Fundevogel, because a bird had carried it away. Fundevogel and Lina loved each other so dearly that when they did not see each other they were sad.'), Document(metadata={'source': 'documents/fundevogel.txt'}, page_content='FUNDEVOGEL\\n\\nThere was once a forester who went into the forest to hunt, and as he entered it he heard a sound of screaming as if a little child were there. He followed the sound, and at last came to a high tree, and at the top of this a little child was sitting, for the mother had fallen asleep under the tree with the child, and a bird of prey had seen it in her arms, had flown down, snatched it away, and set it on the high tree.'), Document(metadata={'source': 'documents/the_frog_prince.txt'}, page_content='He told her that he had been enchanted by a spiteful fairy, who had changed him into a frog; and that he had been fated so to abide till some princess should take him out of the spring, and let him eat from her plate, and sleep upon her bed for three nights. ‘You,’ said the prince, ‘have broken his cruel charm, and now I have nothing to wish for but that you should go with me into my father’s kingdom, where I will marry you, and love you as long as you live.’'), Document(metadata={'source': 'documents/fundevogel.txt'}, page_content='in two, and have broken off the rose and brought it home with you; go, and do it at once.’ They had therefore to go out and look for the second time. The children, however, saw them coming from a distance. Then Lina said: ‘Fundevogel, never leave me, and I will never leave you.’ Fundevogel said: ‘Neither now; nor ever.’ Said Lina: ‘Then do you become a church, and I’ll be the chandelier in it.’ So when the three servants came, nothing was there but a church, with a chandelier in it. They said therefore to'), Document(metadata={'source': 'documents/fundevogel.txt'}, page_content='Then the cook sent three servants after them, who were to run and overtake the children. The children, however, were sitting outside the forest, and when they saw from afar the three servants running, Lina said to Fundevogel: ‘Never leave me, and I will never leave you.’ Fundevogel said: ‘Neither now, nor ever.’ Then said Lina: ‘Do you become a rose-tree, and I the rose upon it.’ When the three servants came to the forest, nothing was there but a rose-tree and one rose on it, but the children were nowhere.'), Document(metadata={'source': 'documents/fundevogel.txt'}, page_content='not pull the church to pieces, and bring the chandelier home with you?’ And now the old cook herself got on her legs, and went with the three servants in pursuit of the children. The children, however, saw from afar that the three servants were coming, and the cook waddling after them. Then said Lina: ‘Fundevogel, never leave me, and I will never leave you.’ Then said Fundevogel: ‘Neither now, nor ever.’ Said Lina: ‘Be a fishpond, and I will be the duck upon it.’ The cook, however, came up to them, and'), Document(metadata={'source': 'documents/the_frog_prince.txt'}, page_content='THE FROG-PRINCE'), Document(metadata={'source': 'documents/fundevogel.txt'}, page_content='‘Neither now, nor ever.’ Said Lina: ‘Be a fishpond, and I will be the duck upon it.’ The cook, however, came up to them, and when she saw the pond she lay down by it, and was about to drink it up. But the duck swam quickly to her, seized her head in its beak and drew her into the water, and there the old witch had to drown. Then the children went home together, and were heartily delighted, and if they have not died, they are living still.'), Document(metadata={'source': 'documents/fundevogel.txt'}, page_content='Early next morning the forester got up and went out hunting, and when he was gone the children were still in bed. Then Lina said to Fundevogel: ‘If you will never leave me, I too will never leave you.’ Fundevogel said: ‘Neither now, nor ever will I leave you.’ Then said Lina: ‘Then will I tell you. Last night, old Sanna carried so many buckets of water into the house that I asked her why she was doing that, and she said that if I would promise not to tell anyone, and she said that early tomorrow morning'), Document(metadata={'source': 'documents/clever_hans.txt'}, page_content='‘Whither away, Hans?’ ‘To Gretel, mother.’ ‘Behave well, Hans.’ ‘Oh, I’ll behave well. Goodbye, mother.’ ‘Goodbye, Hans.’ Hans comes to Gretel. ‘Good day, Gretel.’ ‘Good day, Hans. What good thing do you bring?’ ‘I bring nothing, I want something given me.’ Gretel presents Hans with a young goat. ‘Goodbye, Gretel.’ ‘Goodbye, Hans.’ Hans takes the goat, ties its legs, and puts it in his pocket. When he gets home it is suffocated. ‘Good evening, mother.’ ‘Good evening, Hans. Where have you been?’ ‘With')]\n"
     ]
    }
   ],
   "source": [
    "# With RAG\n",
    "result = qa_chain.invoke({\"query\": query})\n",
    "print(f\"Answer: {result['result']}\\n\")\n",
    "print(f\"Source: {result['source_documents']}\")"
   ]
  }
 ],
 "metadata": {
  "kernelspec": {
   "display_name": ".venv",
   "language": "python",
   "name": "python3"
  },
  "language_info": {
   "codemirror_mode": {
    "name": "ipython",
    "version": 3
   },
   "file_extension": ".py",
   "mimetype": "text/x-python",
   "name": "python",
   "nbconvert_exporter": "python",
   "pygments_lexer": "ipython3",
   "version": "3.13.1"
  }
 },
 "nbformat": 4,
 "nbformat_minor": 2
}
