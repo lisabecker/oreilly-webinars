{
 "cells": [
  {
   "cell_type": "markdown",
   "metadata": {},
   "source": [
    "# "
   ]
  },
  {
   "cell_type": "markdown",
   "metadata": {},
   "source": [
    "## 1. Make sure you have the following packages in your environment installed"
   ]
  },
  {
   "cell_type": "code",
   "execution_count": null,
   "metadata": {},
   "outputs": [],
   "source": [
    "#!pip install langchain==0.3.25 langchain-community==0.3.25 langchain-ollama==0.3.3 chromadb==1.0.12"
   ]
  },
  {
   "cell_type": "markdown",
   "metadata": {},
   "source": [
    "## 2. Load your documents"
   ]
  },
  {
   "cell_type": "code",
   "execution_count": 40,
   "metadata": {},
   "outputs": [
    {
     "name": "stdout",
     "output_type": "stream",
     "text": [
      "One single document:\n",
      "'THE FOX AND THE CAT\n",
      "\n",
      "It happened that the cat met the fox in a forest, and as she thought to herself: ‘He is clever and full of experience, and much esteemed in the world,’ she spoke to him in a friendly way. ‘Good day, dear Mr Fox, how are you? How is all with you? How are you getting on in these hard times?’ The fox, full of all kinds of arrogance, looked at the cat from head to foot, and for a long time did not know whether he would give any answer or not. At last he said: ‘Oh, you wretched beard-cleaner, you piebald fool, you hungry mouse-hunter, what can you be thinking of? Have you the cheek to ask how I am getting on? What have you learnt? How many arts do you understand?’ ‘I understand but one,’ replied the cat, modestly. ‘What art is that?’ asked the fox. ‘When the hounds are following me, I can spring into a tree and save myself.’ ‘Is that all?’ said the fox. ‘I am master of a hundred arts, and have into the bargain a sackful of cunning. You make me sorry for you; come with me, I will teach you how people get away from the hounds.’ Just then came a hunter with four dogs. The cat sprang nimbly up a tree, and sat down at the top of it, where the branches and foliage quite concealed her. ‘Open your sack, Mr Fox, open your sack,’ cried the cat to him, but the dogs had already seized him, and were holding him fast. ‘Ah, Mr Fox,’ cried the cat. ‘You with your hundred arts are left in the lurch! Had you been able to climb like me, you would not have lost your life.’'\n",
      "\n",
      "From the file:\n",
      "'documents/the_fox_and_the_cat.txt'\n"
     ]
    }
   ],
   "source": [
    "from langchain.document_loaders import TextLoader, DirectoryLoader\n",
    "from langchain.text_splitter import RecursiveCharacterTextSplitter\n",
    "from langchain_ollama import OllamaEmbeddings, OllamaLLM\n",
    "from langchain.vectorstores import Chroma\n",
    "from langchain.chains import RetrievalQA\n",
    "\n",
    "loader = DirectoryLoader(\n",
    "    \"./documents\",\n",
    "    glob=\"**/*.txt\",\n",
    "    loader_cls=TextLoader,\n",
    "    loader_kwargs={\"encoding\": \"utf-8\"}\n",
    ")\n",
    "docs = loader.load()\n",
    "print(f\"One single document:\\n'{docs[0].page_content}'\\n\\nFrom the file:\\n'{docs[0].metadata['source']}'\")"
   ]
  },
  {
   "cell_type": "markdown",
   "metadata": {},
   "source": [
    "## 3. Chunk your documents"
   ]
  },
  {
   "cell_type": "code",
   "execution_count": 39,
   "metadata": {},
   "outputs": [
    {
     "name": "stdout",
     "output_type": "stream",
     "text": [
      "One single document chunk:\n",
      "'THE FOX AND THE CAT'\n",
      "\n",
      "From the file:\n",
      "'documents/the_fox_and_the_cat.txt'\n"
     ]
    }
   ],
   "source": [
    "splitter = RecursiveCharacterTextSplitter(chunk_size=512, chunk_overlap=128)\n",
    "chunks = splitter.split_documents(docs)\n",
    "print(f\"One single document chunk:\\n'{chunks[0].page_content}'\\n\\nFrom the file:\\n'{chunks[0].metadata['source']}'\")"
   ]
  },
  {
   "cell_type": "markdown",
   "metadata": {},
   "source": [
    "## 4. Embed and index chunks in a vector database\n",
    "Make sure to execute `ollama pull all-minilm` in the terminal before running the following snippet."
   ]
  },
  {
   "cell_type": "code",
   "execution_count": 8,
   "metadata": {},
   "outputs": [
    {
     "name": "stdout",
     "output_type": "stream",
     "text": [
      "Total embeddings: 63\n"
     ]
    }
   ],
   "source": [
    "model = \"all-minilm\"            # 23M parameters\n",
    "# model = \"nomic-embed-text\"    # 137M parameters\n",
    "# model = \"mxbai-embed-large\"   # 334M parameters\n",
    "\n",
    "embed_model = OllamaEmbeddings(model=model, base_url=\"http://127.0.0.1:11434\")\n",
    "vector_store = Chroma.from_documents(chunks, embed_model)\n",
    "collection = vector_store._collection\n",
    "print(\"Total embeddings:\", collection.count())"
   ]
  },
  {
   "cell_type": "code",
   "execution_count": 10,
   "metadata": {},
   "outputs": [
    {
     "name": "stdout",
     "output_type": "stream",
     "text": [
      "Documents: It happened that the cat met the fox in a forest, and as she thought to herself: ‘He is clever and full of experience, and much esteemed in the world,’ she spoke to him in a friendly way. ‘Good day, dear Mr Fox, how are you? How is all with you? How are you getting on in these hard times?’ The fox, full of all kinds of arrogance, looked at the cat from head to foot, and for a long time did not know whether he would give any answer or not. At last he said: ‘Oh, you wretched beard-cleaner, you piebald fool,\n",
      "\n",
      "Embeddings: [ 4.92861606e-02  5.58096543e-02  1.91971660e-02  6.77148998e-02\n",
      "  1.30003197e-02 -5.70437536e-02  3.91514152e-02 -8.34084768e-03\n",
      " -8.25796500e-02 -4.65176925e-02 -4.43423465e-02 -1.87217891e-02\n",
      " -2.63857730e-02  4.89936247e-02 -5.53207546e-02  2.54260339e-02\n",
      " -1.22084230e-01 -4.46500927e-02  2.82399636e-02  1.44945877e-02\n",
      " -3.57179157e-02  4.51493189e-02  9.16457325e-02  3.01709445e-03\n",
      " -3.62648889e-02 -5.26916273e-02 -5.23130894e-02 -4.16037962e-02\n",
      "  1.24894017e-02 -1.58908125e-02 -2.10005534e-03  8.42381045e-02\n",
      "  2.76454855e-02  6.03419580e-02 -8.78457651e-02 -1.59220472e-02\n",
      "  1.14764728e-01 -2.50192767e-04  7.65896821e-03  4.69378680e-02\n",
      " -5.47810532e-02 -1.86000876e-02 -4.26742584e-02 -2.31994186e-02\n",
      " -7.85923898e-02 -3.52265574e-02 -3.93274464e-02 -5.78393228e-02\n",
      "  3.25803086e-02 -8.17764699e-02 -1.17997028e-01 -2.08885409e-02\n",
      " -2.10178681e-02 -8.69323462e-02 -1.40654035e-02  3.14613655e-02\n",
      "  8.19193050e-02 -1.56070217e-02 -5.13098165e-02  8.38824660e-02\n",
      "  5.56588210e-02 -6.05246760e-02 -9.98208299e-03  1.01208918e-01\n",
      "  6.99175820e-02 -2.85738334e-02 -7.64348656e-02 -2.79631726e-02\n",
      " -8.82511586e-02  9.80009232e-03 -2.77019255e-02 -3.64866108e-02\n",
      " -5.31504042e-02 -2.49026939e-02 -2.78233066e-02 -1.02986870e-02\n",
      "  5.90413585e-02 -6.04909435e-02  5.88292629e-02  3.03904265e-02\n",
      " -5.38637154e-02  2.15630811e-02  1.93062704e-02  5.75921573e-02\n",
      "  1.61752068e-02 -6.49714023e-02 -6.40723621e-03  3.23655875e-03\n",
      " -1.66674443e-02  2.22478919e-02 -5.41733764e-02 -3.37948874e-02\n",
      " -5.71684316e-02  8.22123289e-02  3.10112406e-02  8.68558697e-03\n",
      "  2.04675905e-02  3.29643190e-02 -9.52568129e-02  4.03832234e-02\n",
      "  6.79918975e-02 -3.99400368e-02 -6.58405423e-02 -3.21972631e-02\n",
      "  7.55192572e-03  3.10395714e-02 -4.55887839e-02 -1.06064724e-02\n",
      "  2.52578640e-04  2.17501670e-02  2.22374015e-02 -4.09740470e-02\n",
      " -2.03448236e-02  4.33967598e-02  7.06977323e-02  1.63479932e-02\n",
      "  6.61857873e-02 -4.58675325e-02 -3.93431969e-02 -8.56648982e-02\n",
      "  5.17090783e-02  8.90989378e-02  4.72025975e-04  6.46615028e-02\n",
      "  1.31343510e-02 -6.69232085e-02  3.63978781e-02  1.65110047e-33\n",
      "  2.54206117e-02  4.46954891e-02 -2.36269869e-02 -1.44913970e-02\n",
      "  4.15160879e-02  4.96355928e-02  2.94884876e-03  3.26747671e-02\n",
      "  3.12844627e-02  2.98888050e-02 -2.70465575e-02  6.45841807e-02\n",
      " -2.19245292e-02 -9.54435021e-02 -1.14565954e-01  1.66749395e-02\n",
      "  1.30196298e-02 -2.11264119e-02  2.77286302e-02  1.70859583e-02\n",
      "  1.00069195e-01  9.93866399e-02 -1.40186688e-02 -2.57252250e-02\n",
      " -5.76460641e-03 -5.68106920e-02 -4.08514356e-03 -6.87557757e-02\n",
      "  3.18522044e-02  1.55837843e-02 -1.81874055e-02 -1.33442292e-02\n",
      " -1.32685748e-03  4.75849211e-02  8.55407398e-03 -1.11794874e-01\n",
      "  5.74215036e-03 -4.74675111e-02 -4.24284041e-02  6.07235879e-02\n",
      "  5.45543432e-02  5.98261831e-03  5.88878281e-02 -8.18123017e-03\n",
      " -8.85458887e-02 -8.51876661e-03 -7.61004314e-02  1.57156866e-02\n",
      " -2.03855131e-02  8.75880644e-02 -6.59730937e-03  3.19718979e-02\n",
      "  6.23038299e-02 -1.02168918e-02  1.65656526e-02  7.76967332e-02\n",
      "  6.27702996e-02 -4.27860282e-02  2.62076370e-02  6.36680648e-02\n",
      "  3.83653976e-02  5.40376781e-03  9.22818389e-03 -4.14582901e-02\n",
      "  1.01969624e-02 -7.03085586e-02  2.39819344e-02 -1.37494113e-02\n",
      " -6.17059804e-02  6.81288615e-02 -4.87388624e-03  6.19470738e-02\n",
      " -7.94475526e-02 -1.19949602e-01 -3.41144465e-02 -5.01491688e-02\n",
      " -1.47394706e-02  4.24664281e-02 -7.00023100e-02 -2.05930285e-02\n",
      "  5.76399341e-02  3.74697410e-02 -2.45450344e-02  1.70050729e-02\n",
      " -1.34561621e-02  4.04595993e-02  5.19439355e-02 -4.71115261e-02\n",
      "  2.38748658e-02  4.73830439e-02 -4.20663916e-02  8.18205252e-02\n",
      "  5.80048710e-02 -1.24188058e-01  3.94982137e-02 -4.46597781e-33\n",
      "  2.75928080e-02 -3.55643369e-02  7.47775100e-03  5.42292856e-02\n",
      " -8.64183530e-02  3.25330719e-02  1.58280320e-02  6.73527643e-02\n",
      "  1.22099342e-02 -4.58820537e-03 -5.34132645e-02  5.30704558e-02\n",
      "  7.36177266e-02 -1.65672638e-02  1.11793599e-03 -1.25766158e-01\n",
      "  2.28547323e-02 -2.08269283e-02  3.50879761e-03  1.65991094e-02\n",
      " -4.62351553e-03  5.11270389e-02 -1.10320441e-01  7.16277137e-02\n",
      " -4.88502672e-04 -2.25040764e-02  8.68573934e-02 -8.03651214e-02\n",
      " -7.96760619e-02 -1.37834892e-01  5.15430756e-02 -5.79656959e-02\n",
      " -3.61732952e-02 -1.18413446e-02  1.47684664e-02  6.56342581e-02\n",
      "  8.51207599e-03 -2.54442599e-02 -8.61752853e-02 -6.92937430e-03\n",
      " -9.10640880e-03 -9.02888458e-03 -8.06712583e-02 -1.43539403e-02\n",
      " -6.47171438e-02 -5.32744452e-02 -6.95515797e-02 -1.97458882e-02\n",
      "  7.35843647e-03  6.51980415e-02 -6.68948982e-03 -1.42806657e-02\n",
      "  2.20507625e-02  2.44964827e-02 -5.32707423e-02 -7.34311417e-02\n",
      "  3.84754427e-02  7.19588529e-03  9.22929272e-02 -1.57789420e-02\n",
      " -6.02968931e-02 -1.21938298e-02 -9.10420790e-02 -1.85421985e-02\n",
      " -3.49828857e-03 -5.21483645e-02 -6.32782653e-02 -3.98589373e-02\n",
      "  7.59233758e-02 -4.55930270e-02  6.40204251e-02  5.52343130e-02\n",
      " -5.19609228e-02  1.17735518e-03  5.26158474e-02  1.13920338e-01\n",
      "  3.35228704e-02 -4.19747084e-02 -1.35175986e-02 -8.76222085e-03\n",
      "  6.67739660e-02 -5.60739525e-02  3.04435696e-02  4.35110815e-02\n",
      "  1.82944313e-02 -1.87663008e-02 -8.63980595e-03  6.63651749e-02\n",
      " -3.95848136e-03  1.72785725e-02  8.14235583e-02 -4.64909850e-03\n",
      " -5.21154143e-03 -9.34936851e-03  5.56227341e-02 -5.47080781e-08\n",
      " -1.54611781e-01  6.05059750e-02 -7.98421130e-02  3.62557103e-03\n",
      "  3.26949582e-02 -1.77268963e-02 -7.11860461e-03 -4.03523780e-02\n",
      "  1.50780389e-02  1.85137037e-02 -1.23053091e-02  5.71721122e-02\n",
      "  2.39049289e-02  4.38112468e-02  4.61927690e-02  6.46645948e-02\n",
      "  1.95317287e-02 -4.96525802e-02  3.75643596e-02  1.38391599e-01\n",
      "  8.59076902e-03 -3.62193994e-02 -1.03705883e-01  1.73313953e-02\n",
      " -2.96039619e-02 -4.78271395e-02 -7.55987614e-02  3.06621715e-02\n",
      " -1.18285939e-02  9.55459569e-03 -2.07151864e-02 -1.17096547e-02\n",
      " -7.53601268e-02 -1.05037056e-02  2.60226578e-02  2.79297922e-02\n",
      "  3.27388272e-02 -5.53179905e-02  8.85410830e-02 -1.54562769e-02\n",
      "  4.51040305e-02 -9.87988804e-03  9.05980393e-02 -2.87833344e-02\n",
      " -8.60904157e-02 -3.95344011e-03 -2.03460548e-02 -8.24831277e-02\n",
      "  7.44859278e-02  1.19540701e-02  1.60953570e-02  5.71163073e-02\n",
      " -9.97053925e-03  6.12879619e-02 -3.04744914e-02 -4.94041592e-02\n",
      "  1.76835693e-02 -5.09790666e-02 -6.59192652e-02  3.99672799e-02\n",
      "  8.63185525e-02  2.22134795e-02  2.88895164e-02 -3.21468785e-02]\n"
     ]
    }
   ],
   "source": [
    "all_data = collection.get(include=[\"documents\", \"embeddings\"])\n",
    "print(f\"Documents: {all_data['documents'][1]}\\n\")\n",
    "print(f\"Embeddings: {all_data['embeddings'][1]}\")"
   ]
  },
  {
   "cell_type": "code",
   "execution_count": 11,
   "metadata": {},
   "outputs": [
    {
     "name": "stdout",
     "output_type": "stream",
     "text": [
      "tags=['Chroma', 'OllamaEmbeddings'] vectorstore=<langchain_community.vectorstores.chroma.Chroma object at 0x10e11ba10> search_kwargs={'k': 4}\n"
     ]
    }
   ],
   "source": [
    "retriever = vector_store.as_retriever(search_kwargs={\"k\": 4})\n",
    "print(retriever)"
   ]
  },
  {
   "cell_type": "markdown",
   "metadata": {},
   "source": [
    "## 5. Create a Retrieval-QA chain\n",
    "Make sure to execute `ollama pull gemma3:1b` in the terminal before running the following snippet."
   ]
  },
  {
   "cell_type": "code",
   "execution_count": 28,
   "metadata": {},
   "outputs": [
    {
     "name": "stdout",
     "output_type": "stream",
     "text": [
      "\u001b[1mOllamaLLM\u001b[0m\n",
      "Params: {}\n"
     ]
    }
   ],
   "source": [
    "from langchain_ollama import OllamaLLM\n",
    "from langchain.chains import RetrievalQA\n",
    "\n",
    "# model = \"gemma3:1b\"     # 1B parameters\n",
    "# model = \"llama3.2\"    # 3B parameters\n",
    "model = \"mistral\"     # 7B parameters\n",
    "\n",
    "llm = OllamaLLM(model=model, base_url=\"http://127.0.0.1:11434\")\n",
    "qa_chain = RetrievalQA.from_chain_type(\n",
    "    llm=llm,\n",
    "    retriever=retriever,\n",
    "    chain_type=\"stuff\",            # or \"map_reduce\", \"refine\", etc.\n",
    "    return_source_documents=True,  # if you want the source chunks back\n",
    ")\n",
    "print(llm)"
   ]
  },
  {
   "cell_type": "code",
   "execution_count": 29,
   "metadata": {},
   "outputs": [
    {
     "name": "stdout",
     "output_type": "stream",
     "text": [
      "Answer:  Hans is a character from the story \"Clever Hans.\" He has the ability to perform mathematical calculations and solve problems without any formal education. In this context, he appears as a mischievous character who manipulates Gretel and his mother for personal gain.\n",
      "\n",
      "Source: [Document(metadata={'source': 'documents/clever_hans.txt'}, page_content='CLEVER HANS\\n\\nThe mother of Hans said: ‘Whither away, Hans?’ Hans answered: ‘To Gretel.’ ‘Behave well, Hans.’ ‘Oh, I’ll behave well. Goodbye, mother.’ ‘Goodbye, Hans.’ Hans comes to Gretel. ‘Good day, Gretel.’ ‘Good day, Hans. What do you bring that is good?’ ‘I bring nothing, I want to have something given me.’ Gretel presents Hans with a needle, Hans says: ‘Goodbye, Gretel.’ ‘Goodbye, Hans.’'), Document(metadata={'source': 'documents/clever_hans.txt'}, page_content='Hans takes Gretel, ties her to a rope, leads her to the rack, and binds her fast. Then Hans goes to his mother. ‘Good evening, mother.’ ‘Good evening, Hans. Where have you been?’ ‘With Gretel.’ ‘What did you take her?’ ‘I took her nothing.’ ‘What did Gretel give you?’ ‘She gave me nothing, she came with me.’ ‘Where have you left Gretel?’ ‘I led her by the rope, tied her to the rack, and scattered some grass for her.’ ‘That was ill done, Hans, you should have cast friendly eyes on her.’ ‘Never mind, will do'), Document(metadata={'source': 'documents/clever_hans.txt'}, page_content='‘Whither away, Hans?’ ‘To Gretel, mother.’ ‘Behave well, Hans.’ ‘Oh, I’ll behave well. Goodbye, mother.’ ‘Goodbye, Hans.’ Hans comes to Gretel. ‘Good day, Gretel.’ ‘Good day, Hans. What good thing do you bring?’ ‘I bring nothing, I want something given me.’ Gretel presents Hans with a young goat. ‘Goodbye, Gretel.’ ‘Goodbye, Hans.’ Hans takes the goat, ties its legs, and puts it in his pocket. When he gets home it is suffocated. ‘Good evening, mother.’ ‘Good evening, Hans. Where have you been?’ ‘With'), Document(metadata={'source': 'documents/clever_hans.txt'}, page_content='‘Whither away, Hans?’ ‘To Gretel, mother.’ ‘Behave well, Hans.’ ‘Oh, I’ll behave well. Goodbye, mother.’ ‘Goodbye, Hans.’ Hans comes to Gretel. ‘Good day, Gretel.’ ‘Good day, Hans. What do you bring that is good?’ ‘I bring nothing. I want to have something given to me.’ Gretel presents Hans with a knife. ‘Goodbye, Gretel.’ ‘Goodbye, Hans.’ Hans takes the knife, sticks it in his sleeve, and goes home. ‘Good evening, mother.’ ‘Good evening, Hans. Where have you been?’ ‘With Gretel.’ What did you take her?’')]\n"
     ]
    }
   ],
   "source": [
    "result = qa_chain.invoke({\"query\": \"Who is Hans?\"})\n",
    "print(f\"Answer: {result['result']}\\n\")\n",
    "print(f\"Source: {result['source_documents']}\")"
   ]
  },
  {
   "cell_type": "code",
   "execution_count": 23,
   "metadata": {},
   "outputs": [
    {
     "data": {
      "text/plain": [
       "'CLEVER HANS\\n\\nThe mother of Hans said: ‘Whither away, Hans?’ Hans answered: ‘To Gretel.’ ‘Behave well, Hans.’ ‘Oh, I’ll behave well. Goodbye, mother.’ ‘Goodbye, Hans.’ Hans comes to Gretel. ‘Good day, Gretel.’ ‘Good day, Hans. What do you bring that is good?’ ‘I bring nothing, I want to have something given me.’ Gretel presents Hans with a needle, Hans says: ‘Goodbye, Gretel.’ ‘Goodbye, Hans.’'"
      ]
     },
     "execution_count": 23,
     "metadata": {},
     "output_type": "execute_result"
    }
   ],
   "source": [
    "result['source_documents'][0].page_content"
   ]
  }
 ],
 "metadata": {
  "kernelspec": {
   "display_name": ".venv",
   "language": "python",
   "name": "python3"
  },
  "language_info": {
   "codemirror_mode": {
    "name": "ipython",
    "version": 3
   },
   "file_extension": ".py",
   "mimetype": "text/x-python",
   "name": "python",
   "nbconvert_exporter": "python",
   "pygments_lexer": "ipython3",
   "version": "3.13.1"
  }
 },
 "nbformat": 4,
 "nbformat_minor": 2
}
